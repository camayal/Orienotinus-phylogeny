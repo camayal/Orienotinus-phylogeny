{
 "cells": [
  {
   "cell_type": "markdown",
   "metadata": {},
   "source": [
    "# Species level tree reconstruction"
   ]
  },
  {
   "cell_type": "markdown",
   "metadata": {},
   "source": [
    "## Load modules"
   ]
  },
  {
   "cell_type": "code",
   "execution_count": null,
   "metadata": {},
   "outputs": [],
   "source": [
    "import toytree\n",
    "import toyplot.pdf\n",
    "import pandas as pd\n",
    "import ipyrad.analysis as ipa"
   ]
  },
  {
   "cell_type": "markdown",
   "metadata": {
    "tags": []
   },
   "source": [
    "## Matrix preparation"
   ]
  },
  {
   "cell_type": "markdown",
   "metadata": {},
   "source": [
    "### Load sequences"
   ]
  },
  {
   "cell_type": "code",
   "execution_count": 2,
   "metadata": {},
   "outputs": [],
   "source": [
    "SEQS = \"../../Raw_data/full_dataset.seqs.hdf5\""
   ]
  },
  {
   "cell_type": "markdown",
   "metadata": {},
   "source": [
    "### Check scaffolds lengths"
   ]
  },
  {
   "cell_type": "code",
   "execution_count": null,
   "metadata": {},
   "outputs": [],
   "source": [
    "# get scaffolds sorted by length and select the 100 biggest scaffolds\n",
    "scaffs = ipa.window_extracter(SEQS)\n",
    "scaff_table = scaffs.scaffold_table.sort_values(by=\"scaffold_length\", ascending=False)\n",
    "display (scaff_table)\n",
    "scaff_toUse = scaff_table.index[:100].tolist()\n",
    "print (scaff_toUse)\n",
    "print(scaff_table.scaffold_length.sum())\n",
    "print(len(scaff_toUse))"
   ]
  },
  {
   "cell_type": "markdown",
   "metadata": {
    "tags": []
   },
   "source": [
    "### Window extractor to generate phy file"
   ]
  },
  {
   "cell_type": "code",
   "execution_count": null,
   "metadata": {},
   "outputs": [],
   "source": [
    "# import database\n",
    "fulldata = pd.read_csv(\"../../Raw_data/oreinotinus_samples_database.csv\")\n",
    "\n",
    "# get outgroup samples from ingroup\n",
    "ingroup = list(fulldata[fulldata[\"spp_dataset\"] == \"1\"][\"NameInAssembly\"])\n",
    "outgroup = list(fulldata[fulldata[\"spp_dataset\"] == \"out\"][\"NameInAssembly\"])"
   ]
  },
  {
   "cell_type": "code",
   "execution_count": 19,
   "metadata": {},
   "outputs": [],
   "source": [
    "# compose the imap dictionary\n",
    "IMAP = {\n",
    "    \"outgroup\": outgroup,\n",
    "    \"ingroup\": ingroup + [\"ayavacense_PWS_4006\"], #including only this real ayavacense from Plate from feb2021,\n",
    "}"
   ]
  },
  {
   "cell_type": "code",
   "execution_count": 17,
   "metadata": {},
   "outputs": [],
   "source": [
    "# define window extracter object and define parameters\n",
    "wex = ipa.window_extracter(\n",
    "    data=SEQS,\n",
    "    scaffold_idxs=scaff_toUse,\n",
    "    mincov=0.25,\n",
    "    rmincov=0.1,\n",
    "    name=\"splvl_withrealAyava_100scaff_mcov025_rmcov01_mar2021\",\n",
    "    imap=IMAP,\n",
    ")"
   ]
  },
  {
   "cell_type": "code",
   "execution_count": 18,
   "metadata": {},
   "outputs": [
    {
     "name": "stdout",
     "output_type": "stream",
     "text": [
      "Wrote data to /home/deren/Documents/jhub-mount/Viburnum-Oreinotinus/notebooks/Mar2021/analysis-window_extracter/splvl_withrealAyava_100scaff_mcov025_rmcov01_mar2021.phy\n"
     ]
    }
   ],
   "source": [
    "# run windows extracter\n",
    "wex.run(force=True)"
   ]
  },
  {
   "cell_type": "code",
   "execution_count": 19,
   "metadata": {},
   "outputs": [
    {
     "data": {
      "text/html": [
       "<div>\n",
       "<style scoped>\n",
       "    .dataframe tbody tr th:only-of-type {\n",
       "        vertical-align: middle;\n",
       "    }\n",
       "\n",
       "    .dataframe tbody tr th {\n",
       "        vertical-align: top;\n",
       "    }\n",
       "\n",
       "    .dataframe thead th {\n",
       "        text-align: right;\n",
       "    }\n",
       "</style>\n",
       "<table border=\"1\" class=\"dataframe\">\n",
       "  <thead>\n",
       "    <tr style=\"text-align: right;\">\n",
       "      <th></th>\n",
       "      <th>scaffold</th>\n",
       "      <th>start</th>\n",
       "      <th>end</th>\n",
       "      <th>sites</th>\n",
       "      <th>snps</th>\n",
       "      <th>missing</th>\n",
       "      <th>samples</th>\n",
       "    </tr>\n",
       "  </thead>\n",
       "  <tbody>\n",
       "    <tr>\n",
       "      <th>0</th>\n",
       "      <td>concatenated</td>\n",
       "      <td>0</td>\n",
       "      <td>7686800</td>\n",
       "      <td>7686800</td>\n",
       "      <td>161791</td>\n",
       "      <td>0.481</td>\n",
       "      <td>41</td>\n",
       "    </tr>\n",
       "  </tbody>\n",
       "</table>\n",
       "</div>"
      ],
      "text/plain": [
       "       scaffold  start      end    sites    snps  missing  samples\n",
       "0  concatenated      0  7686800  7686800  161791    0.481       41"
      ]
     },
     "execution_count": 19,
     "metadata": {},
     "output_type": "execute_result"
    }
   ],
   "source": [
    "# display stats about extraction\n",
    "wex.stats"
   ]
  },
  {
   "cell_type": "markdown",
   "metadata": {},
   "source": [
    "## Analysis"
   ]
  },
  {
   "cell_type": "markdown",
   "metadata": {},
   "source": [
    "### Run RAXML"
   ]
  },
  {
   "cell_type": "code",
   "execution_count": 20,
   "metadata": {},
   "outputs": [
    {
     "data": {
      "text/plain": [
       "'splvl_withrealAyava_100scaff_mcov025_rmcov01_mar2021'"
      ]
     },
     "execution_count": 20,
     "metadata": {},
     "output_type": "execute_result"
    }
   ],
   "source": [
    "wex.name"
   ]
  },
  {
   "cell_type": "code",
   "execution_count": 21,
   "metadata": {},
   "outputs": [],
   "source": [
    "# define raxml object and paremeters\n",
    "rax = ipa.raxml(wex.outfile, name=wex.name, T=34, N=100, m=\"GTRCAT\")"
   ]
  },
  {
   "cell_type": "code",
   "execution_count": 22,
   "metadata": {},
   "outputs": [
    {
     "name": "stdout",
     "output_type": "stream",
     "text": [
      "/home/carlos/anaconda3/bin/raxmlHPC-PTHREADS-AVX2 -f a -T 34 -m GTRCAT -n splvl_withrealAyava_100scaff_mcov025_rmcov01_mar2021 -w /home/deren/Documents/jhub-mount/Viburnum-Oreinotinus/notebooks/Mar2021/analysis-raxml -s /home/deren/Documents/jhub-mount/Viburnum-Oreinotinus/notebooks/Mar2021/analysis-window_extracter/splvl_withrealAyava_100scaff_mcov025_rmcov01_mar2021.phy -p 54321 -N 100 -x 12345\n"
     ]
    }
   ],
   "source": [
    "print(rax.command)"
   ]
  },
  {
   "cell_type": "code",
   "execution_count": null,
   "metadata": {},
   "outputs": [],
   "source": [
    "# run raxml\n",
    "rax.run()"
   ]
  },
  {
   "cell_type": "markdown",
   "metadata": {},
   "source": [
    "## Tree"
   ]
  },
  {
   "cell_type": "markdown",
   "metadata": {},
   "source": [
    "#### Get final names and print RAXML results"
   ]
  },
  {
   "cell_type": "code",
   "execution_count": 6,
   "metadata": {},
   "outputs": [],
   "source": [
    "# import database\n",
    "fulldata = pd.read_csv(\"../../Raw_data/oreinotinus_samples_database.csv\")\n",
    "\n",
    "# import color codes\n",
    "colors = pd.read_csv(\"../../Raw_data/oreinotinus_color_codes.csv\")"
   ]
  },
  {
   "cell_type": "code",
   "execution_count": 5,
   "metadata": {},
   "outputs": [],
   "source": [
    "#in this cell I am modifying the names for journal friendly names.\n",
    "sdata = fulldata[[\"NameInAssembly\",\"Lastest_SP_name\"]]\n",
    "\n",
    "namedict = {}\n",
    "for i in range(sdata.shape[0]):\n",
    "    namedict[sdata.iloc[i, 0]] = f\"{sdata.iloc[i, 1]}\"\n",
    "        \n",
    "colordata = colors[[\"Species\",\"Color\"]]\n",
    "colordict = {colordata.iloc[i, 0]: str(colordata.iloc[i, 1]) for i in range(colordata.shape[0])}"
   ]
  },
  {
   "cell_type": "code",
   "execution_count": 6,
   "metadata": {},
   "outputs": [],
   "source": [
    "# reload the resulting tree\n",
    "treeFile = \"./analysis-raxml/RAxML_bipartitions.splvl_withrealAyava_100scaff_mcov025_rmcov01_mar2021\"\n",
    "tre = toytree.tree(treeFile)"
   ]
  },
  {
   "cell_type": "code",
   "execution_count": 11,
   "metadata": {},
   "outputs": [
    {
     "data": {
      "text/html": [
       "<div class=\"toyplot\" id=\"tcb259a0d6a20478d91469c7ca3c984a7\" style=\"text-align:center\"><svg class=\"toyplot-canvas-Canvas\" xmlns:toyplot=\"http://www.sandia.gov/toyplot\" xmlns:xlink=\"http://www.w3.org/1999/xlink\" xmlns=\"http://www.w3.org/2000/svg\" width=\"400.0px\" height=\"600.0px\" viewBox=\"0 0 400.0 600.0\" preserveAspectRatio=\"xMidYMid meet\" style=\"background-color:transparent;border-color:#292724;border-style:none;border-width:1.0;fill:rgb(16.1%,15.3%,14.1%);fill-opacity:1.0;font-family:Helvetica;font-size:12px;opacity:1.0;stroke:rgb(16.1%,15.3%,14.1%);stroke-opacity:1.0;stroke-width:1.0\" id=\"t9af3b9c431f148a5810d7400f6f9ebc9\"><g class=\"toyplot-coordinates-Cartesian\" id=\"tcc388c08fda54b689e245667842c1c63\"><clipPath id=\"t22ca73134cbf497f83e23770d541e1e5\"><rect x=\"30.0\" y=\"30.0\" width=\"340.0\" height=\"540.0\"></rect></clipPath><g clip-path=\"url(#t22ca73134cbf497f83e23770d541e1e5)\"><g class=\"toytree-mark-Toytree\" id=\"t174eeb34a1ab4c7ca4fe2dcd8f242742\"><g class=\"toytree-Edges\" style=\"fill:none;stroke:rgb(14.9%,14.9%,14.9%);stroke-linecap:round;stroke-opacity:1;stroke-width:2\"><path d=\"M 50.0 104.6 L 50.0 147.8 L 107.9 147.8\" id=\"80,79\"></path><path d=\"M 107.9 147.8 L 107.9 97.6 L 125.0 97.6\" id=\"79,78\"></path><path d=\"M 107.9 147.8 L 107.9 197.9 L 119.2 197.9\" id=\"79,77\"></path><path d=\"M 125.0 97.6 L 125.0 79.3 L 136.5 79.3\" id=\"78,76\"></path><path d=\"M 125.0 97.6 L 125.0 115.9 L 133.7 115.9\" id=\"78,75\"></path><path d=\"M 119.2 197.9 L 119.2 239.0 L 129.9 239.0\" id=\"77,74\"></path><path d=\"M 133.7 115.9 L 133.7 134.5 L 142.3 134.5\" id=\"75,73\"></path><path d=\"M 129.9 239.0 L 129.9 182.2 L 137.2 182.2\" id=\"74,72\"></path><path d=\"M 129.9 239.0 L 129.9 295.8 L 139.4 295.8\" id=\"74,71\"></path><path d=\"M 142.3 134.5 L 142.3 124.1 L 149.5 124.1\" id=\"73,70\"></path><path d=\"M 137.2 182.2 L 137.2 195.6 L 143.1 195.6\" id=\"72,69\"></path><path d=\"M 139.4 295.8 L 139.4 259.7 L 145.5 259.7\" id=\"71,68\"></path><path d=\"M 139.4 295.8 L 139.4 331.9 L 145.3 331.9\" id=\"71,67\"></path><path d=\"M 149.5 124.1 L 149.5 115.1 L 158.1 115.1\" id=\"70,66\"></path><path d=\"M 143.1 195.6 L 143.1 210.5 L 151.1 210.5\" id=\"69,65\"></path><path d=\"M 145.5 259.7 L 145.5 246.3 L 155.7 246.3\" id=\"68,64\"></path><path d=\"M 145.5 259.7 L 145.5 273.2 L 150.0 273.2\" id=\"68,63\"></path><path d=\"M 145.3 331.9 L 145.3 308.9 L 161.5 308.9\" id=\"67,62\"></path><path d=\"M 145.3 331.9 L 145.3 354.8 L 152.9 354.8\" id=\"67,61\"></path><path d=\"M 151.1 210.5 L 151.1 198.6 L 158.9 198.6\" id=\"65,60\"></path><path d=\"M 151.1 210.5 L 151.1 222.5 L 159.8 222.5\" id=\"65,59\"></path><path d=\"M 150.0 273.2 L 150.0 282.1 L 157.0 282.1\" id=\"63,58\"></path><path d=\"M 161.5 308.9 L 161.5 317.9 L 192.8 317.9\" id=\"62,57\"></path><path d=\"M 152.9 354.8 L 152.9 373.8 L 160.2 373.8\" id=\"61,56\"></path><path d=\"M 160.2 373.8 L 160.2 399.8 L 180.6 399.8\" id=\"56,55\"></path><path d=\"M 180.6 399.8 L 180.6 440.0 L 200.6 440.0\" id=\"55,54\"></path><path d=\"M 200.6 440.0 L 200.6 401.4 L 206.3 401.4\" id=\"54,53\"></path><path d=\"M 200.6 440.0 L 200.6 478.5 L 206.8 478.5\" id=\"54,52\"></path><path d=\"M 206.3 401.4 L 206.3 386.5 L 212.7 386.5\" id=\"53,51\"></path><path d=\"M 206.3 401.4 L 206.3 416.3 L 211.3 416.3\" id=\"53,50\"></path><path d=\"M 206.8 478.5 L 206.8 458.0 L 212.4 458.0\" id=\"52,49\"></path><path d=\"M 206.8 478.5 L 206.8 499.0 L 212.3 499.0\" id=\"52,48\"></path><path d=\"M 212.7 386.5 L 212.7 377.5 L 219.1 377.5\" id=\"51,47\"></path><path d=\"M 211.3 416.3 L 211.3 425.2 L 216.0 425.2\" id=\"50,46\"></path><path d=\"M 212.4 458.0 L 212.4 449.1 L 218.1 449.1\" id=\"49,45\"></path><path d=\"M 212.3 499.0 L 212.3 519.2 L 217.3 519.2\" id=\"48,44\"></path><path d=\"M 217.3 519.2 L 217.3 505.7 L 222.8 505.7\" id=\"44,43\"></path><path d=\"M 217.3 519.2 L 217.3 532.6 L 229.2 532.6\" id=\"44,42\"></path><path d=\"M 222.8 505.7 L 222.8 496.8 L 227.9 496.8\" id=\"43,41\"></path><path d=\"M 50.0 104.6 L 50.0 61.5 L 107.9 61.5\" id=\"80,40\"></path><path d=\"M 136.5 79.3 L 136.5 73.4 L 190.4 73.4\" id=\"76,39\"></path><path d=\"M 136.5 79.3 L 136.5 85.3 L 196.0 85.3\" id=\"76,38\"></path><path d=\"M 133.7 115.9 L 133.7 97.2 L 187.9 97.2\" id=\"75,37\"></path><path d=\"M 158.1 115.1 L 158.1 109.2 L 205.9 109.2\" id=\"66,36\"></path><path d=\"M 158.1 115.1 L 158.1 121.1 L 201.7 121.1\" id=\"66,35\"></path><path d=\"M 149.5 124.1 L 149.5 133.0 L 203.4 133.0\" id=\"70,34\"></path><path d=\"M 142.3 134.5 L 142.3 144.9 L 184.5 144.9\" id=\"73,33\"></path><path d=\"M 119.2 197.9 L 119.2 156.9 L 187.0 156.9\" id=\"77,32\"></path><path d=\"M 137.2 182.2 L 137.2 168.8 L 215.8 168.8\" id=\"72,31\"></path><path d=\"M 143.1 195.6 L 143.1 180.7 L 197.4 180.7\" id=\"69,30\"></path><path d=\"M 158.9 198.6 L 158.9 192.7 L 191.6 192.7\" id=\"60,29\"></path><path d=\"M 158.9 198.6 L 158.9 204.6 L 205.0 204.6\" id=\"60,28\"></path><path d=\"M 159.8 222.5 L 159.8 216.5 L 209.0 216.5\" id=\"59,27\"></path><path d=\"M 159.8 222.5 L 159.8 228.4 L 195.9 228.4\" id=\"59,26\"></path><path d=\"M 155.7 246.3 L 155.7 240.4 L 217.2 240.4\" id=\"64,25\"></path><path d=\"M 155.7 246.3 L 155.7 252.3 L 220.1 252.3\" id=\"64,24\"></path><path d=\"M 150.0 273.2 L 150.0 264.2 L 194.9 264.2\" id=\"63,23\"></path><path d=\"M 157.0 282.1 L 157.0 276.1 L 188.2 276.1\" id=\"58,22\"></path><path d=\"M 157.0 282.1 L 157.0 288.1 L 184.8 288.1\" id=\"58,21\"></path><path d=\"M 161.5 308.9 L 161.5 300.0 L 205.4 300.0\" id=\"62,20\"></path><path d=\"M 192.8 317.9 L 192.8 311.9 L 236.4 311.9\" id=\"57,19\"></path><path d=\"M 192.8 317.9 L 192.8 323.9 L 219.0 323.9\" id=\"57,18\"></path><path d=\"M 152.9 354.8 L 152.9 335.8 L 214.0 335.8\" id=\"61,17\"></path><path d=\"M 160.2 373.8 L 160.2 347.7 L 212.2 347.7\" id=\"56,16\"></path><path d=\"M 180.6 399.8 L 180.6 359.6 L 218.5 359.6\" id=\"55,15\"></path><path d=\"M 219.1 377.5 L 219.1 371.6 L 247.7 371.6\" id=\"47,14\"></path><path d=\"M 219.1 377.5 L 219.1 383.5 L 249.2 383.5\" id=\"47,13\"></path><path d=\"M 212.7 386.5 L 212.7 395.4 L 232.8 395.4\" id=\"51,12\"></path><path d=\"M 211.3 416.3 L 211.3 407.3 L 241.9 407.3\" id=\"50,11\"></path><path d=\"M 216.0 425.2 L 216.0 419.3 L 250.0 419.3\" id=\"46,10\"></path><path d=\"M 216.0 425.2 L 216.0 431.2 L 234.5 431.2\" id=\"46,9\"></path><path d=\"M 218.1 449.1 L 218.1 443.1 L 248.1 443.1\" id=\"45,8\"></path><path d=\"M 218.1 449.1 L 218.1 455.1 L 243.8 455.1\" id=\"45,7\"></path><path d=\"M 212.4 458.0 L 212.4 467.0 L 238.0 467.0\" id=\"49,6\"></path><path d=\"M 212.3 499.0 L 212.3 478.9 L 244.2 478.9\" id=\"48,5\"></path><path d=\"M 227.9 496.8 L 227.9 490.8 L 253.7 490.8\" id=\"41,4\"></path><path d=\"M 227.9 496.8 L 227.9 502.8 L 263.1 502.8\" id=\"41,3\"></path><path d=\"M 222.8 505.7 L 222.8 514.7 L 247.7 514.7\" id=\"43,2\"></path><path d=\"M 229.2 532.6 L 229.2 526.6 L 266.7 526.6\" id=\"42,1\"></path><path d=\"M 229.2 532.6 L 229.2 538.5 L 265.3 538.5\" id=\"42,0\"></path></g><g class=\"toytree-AlignEdges\" style=\"stroke:rgb(66.3%,66.3%,66.3%);stroke-dasharray:2, 4;stroke-linecap:round;stroke-opacity:1.0;stroke-width:2\"><path d=\"M 266.7 538.5 L 265.3 538.5\"></path><path d=\"M 266.7 526.6 L 266.7 526.6\"></path><path d=\"M 266.7 514.7 L 247.7 514.7\"></path><path d=\"M 266.7 502.8 L 263.1 502.8\"></path><path d=\"M 266.7 490.8 L 253.7 490.8\"></path><path d=\"M 266.7 478.9 L 244.2 478.9\"></path><path d=\"M 266.7 467.0 L 238.0 467.0\"></path><path d=\"M 266.7 455.1 L 243.8 455.1\"></path><path d=\"M 266.7 443.1 L 248.1 443.1\"></path><path d=\"M 266.7 431.2 L 234.5 431.2\"></path><path d=\"M 266.7 419.3 L 250.0 419.3\"></path><path d=\"M 266.7 407.3 L 241.9 407.3\"></path><path d=\"M 266.7 395.4 L 232.8 395.4\"></path><path d=\"M 266.7 383.5 L 249.2 383.5\"></path><path d=\"M 266.7 371.6 L 247.7 371.6\"></path><path d=\"M 266.7 359.6 L 218.5 359.6\"></path><path d=\"M 266.7 347.7 L 212.2 347.7\"></path><path d=\"M 266.7 335.8 L 214.0 335.8\"></path><path d=\"M 266.7 323.9 L 219.0 323.9\"></path><path d=\"M 266.7 311.9 L 236.4 311.9\"></path><path d=\"M 266.7 300.0 L 205.4 300.0\"></path><path d=\"M 266.7 288.1 L 184.8 288.1\"></path><path d=\"M 266.7 276.1 L 188.2 276.1\"></path><path d=\"M 266.7 264.2 L 194.9 264.2\"></path><path d=\"M 266.7 252.3 L 220.1 252.3\"></path><path d=\"M 266.7 240.4 L 217.2 240.4\"></path><path d=\"M 266.7 228.4 L 195.9 228.4\"></path><path d=\"M 266.7 216.5 L 209.0 216.5\"></path><path d=\"M 266.7 204.6 L 205.0 204.6\"></path><path d=\"M 266.7 192.7 L 191.6 192.7\"></path><path d=\"M 266.7 180.7 L 197.4 180.7\"></path><path d=\"M 266.7 168.8 L 215.8 168.8\"></path><path d=\"M 266.7 156.9 L 187.0 156.9\"></path><path d=\"M 266.7 144.9 L 184.5 144.9\"></path><path d=\"M 266.7 133.0 L 203.4 133.0\"></path><path d=\"M 266.7 121.1 L 201.7 121.1\"></path><path d=\"M 266.7 109.2 L 205.9 109.2\"></path><path d=\"M 266.7 97.2 L 187.9 97.2\"></path><path d=\"M 266.7 85.3 L 196.0 85.3\"></path><path d=\"M 266.7 73.4 L 190.4 73.4\"></path><path d=\"M 266.7 61.5 L 107.9 61.5\"></path></g><g class=\"toytree-Nodes\" style=\"fill:rgb(40%,76.1%,64.7%);fill-opacity:1.0;stroke:rgb(0%,0%,0%);stroke-opacity:1.0;stroke-width:1\"><g fill=\"rgb(100%,100%,100%)\" fill-opacity=\"1.0\" id=\"node-0\" transform=\"translate(265.292,538.550)\"><circle r=\"0.0\"></circle></g><g fill=\"rgb(100%,100%,100%)\" fill-opacity=\"1.0\" id=\"node-1\" transform=\"translate(266.728,526.622)\"><circle r=\"0.0\"></circle></g><g fill=\"rgb(100%,100%,100%)\" fill-opacity=\"1.0\" id=\"node-2\" transform=\"translate(247.688,514.695)\"><circle r=\"0.0\"></circle></g><g fill=\"rgb(100%,100%,100%)\" fill-opacity=\"1.0\" id=\"node-3\" transform=\"translate(263.069,502.767)\"><circle r=\"0.0\"></circle></g><g fill=\"rgb(100%,100%,100%)\" fill-opacity=\"1.0\" id=\"node-4\" transform=\"translate(253.657,490.840)\"><circle r=\"0.0\"></circle></g><g fill=\"rgb(100%,100%,100%)\" fill-opacity=\"1.0\" id=\"node-5\" transform=\"translate(244.190,478.912)\"><circle r=\"0.0\"></circle></g><g fill=\"rgb(100%,100%,100%)\" fill-opacity=\"1.0\" id=\"node-6\" transform=\"translate(237.959,466.985)\"><circle r=\"0.0\"></circle></g><g fill=\"rgb(100%,100%,100%)\" fill-opacity=\"1.0\" id=\"node-7\" transform=\"translate(243.825,455.057)\"><circle r=\"0.0\"></circle></g><g fill=\"rgb(100%,100%,100%)\" fill-opacity=\"1.0\" id=\"node-8\" transform=\"translate(248.068,443.130)\"><circle r=\"0.0\"></circle></g><g fill=\"rgb(100%,100%,100%)\" fill-opacity=\"1.0\" id=\"node-9\" transform=\"translate(234.507,431.202)\"><circle r=\"0.0\"></circle></g><g fill=\"rgb(100%,100%,100%)\" fill-opacity=\"1.0\" id=\"node-10\" transform=\"translate(250.018,419.275)\"><circle r=\"0.0\"></circle></g><g fill=\"rgb(100%,100%,100%)\" fill-opacity=\"1.0\" id=\"node-11\" transform=\"translate(241.863,407.347)\"><circle r=\"0.0\"></circle></g><g fill=\"rgb(100%,100%,100%)\" fill-opacity=\"1.0\" id=\"node-12\" transform=\"translate(232.770,395.420)\"><circle r=\"0.0\"></circle></g><g fill=\"rgb(100%,100%,100%)\" fill-opacity=\"1.0\" id=\"node-13\" transform=\"translate(249.216,383.492)\"><circle r=\"0.0\"></circle></g><g fill=\"rgb(100%,100%,100%)\" fill-opacity=\"1.0\" id=\"node-14\" transform=\"translate(247.653,371.565)\"><circle r=\"0.0\"></circle></g><g fill=\"rgb(100%,100%,100%)\" fill-opacity=\"1.0\" id=\"node-15\" transform=\"translate(218.503,359.637)\"><circle r=\"0.0\"></circle></g><g fill=\"rgb(100%,100%,100%)\" fill-opacity=\"1.0\" id=\"node-16\" transform=\"translate(212.180,347.710)\"><circle r=\"0.0\"></circle></g><g fill=\"rgb(100%,100%,100%)\" fill-opacity=\"1.0\" id=\"node-17\" transform=\"translate(213.991,335.782)\"><circle r=\"0.0\"></circle></g><g fill=\"rgb(100%,100%,100%)\" fill-opacity=\"1.0\" id=\"node-18\" transform=\"translate(218.983,323.855)\"><circle r=\"0.0\"></circle></g><g fill=\"rgb(100%,100%,100%)\" fill-opacity=\"1.0\" id=\"node-19\" transform=\"translate(236.373,311.927)\"><circle r=\"0.0\"></circle></g><g fill=\"rgb(100%,100%,100%)\" fill-opacity=\"1.0\" id=\"node-20\" transform=\"translate(205.423,300.000)\"><circle r=\"0.0\"></circle></g><g fill=\"rgb(100%,100%,100%)\" fill-opacity=\"1.0\" id=\"node-21\" transform=\"translate(184.826,288.073)\"><circle r=\"0.0\"></circle></g><g fill=\"rgb(100%,100%,100%)\" fill-opacity=\"1.0\" id=\"node-22\" transform=\"translate(188.192,276.145)\"><circle r=\"0.0\"></circle></g><g fill=\"rgb(100%,100%,100%)\" fill-opacity=\"1.0\" id=\"node-23\" transform=\"translate(194.896,264.218)\"><circle r=\"0.0\"></circle></g><g fill=\"rgb(100%,100%,100%)\" fill-opacity=\"1.0\" id=\"node-24\" transform=\"translate(220.089,252.290)\"><circle r=\"0.0\"></circle></g><g fill=\"rgb(100%,100%,100%)\" fill-opacity=\"1.0\" id=\"node-25\" transform=\"translate(217.183,240.363)\"><circle r=\"0.0\"></circle></g><g fill=\"rgb(100%,100%,100%)\" fill-opacity=\"1.0\" id=\"node-26\" transform=\"translate(195.910,228.435)\"><circle r=\"0.0\"></circle></g><g fill=\"rgb(100%,100%,100%)\" fill-opacity=\"1.0\" id=\"node-27\" transform=\"translate(208.996,216.508)\"><circle r=\"0.0\"></circle></g><g fill=\"rgb(100%,100%,100%)\" fill-opacity=\"1.0\" id=\"node-28\" transform=\"translate(204.999,204.580)\"><circle r=\"0.0\"></circle></g><g fill=\"rgb(100%,100%,100%)\" fill-opacity=\"1.0\" id=\"node-29\" transform=\"translate(191.597,192.653)\"><circle r=\"0.0\"></circle></g><g fill=\"rgb(100%,100%,100%)\" fill-opacity=\"1.0\" id=\"node-30\" transform=\"translate(197.404,180.725)\"><circle r=\"0.0\"></circle></g><g fill=\"rgb(100%,100%,100%)\" fill-opacity=\"1.0\" id=\"node-31\" transform=\"translate(215.783,168.798)\"><circle r=\"0.0\"></circle></g><g fill=\"rgb(100%,100%,100%)\" fill-opacity=\"1.0\" id=\"node-32\" transform=\"translate(187.030,156.870)\"><circle r=\"0.0\"></circle></g><g fill=\"rgb(100%,100%,100%)\" fill-opacity=\"1.0\" id=\"node-33\" transform=\"translate(184.486,144.943)\"><circle r=\"0.0\"></circle></g><g fill=\"rgb(100%,100%,100%)\" fill-opacity=\"1.0\" id=\"node-34\" transform=\"translate(203.382,133.015)\"><circle r=\"0.0\"></circle></g><g fill=\"rgb(100%,100%,100%)\" fill-opacity=\"1.0\" id=\"node-35\" transform=\"translate(201.738,121.088)\"><circle r=\"0.0\"></circle></g><g fill=\"rgb(100%,100%,100%)\" fill-opacity=\"1.0\" id=\"node-36\" transform=\"translate(205.895,109.160)\"><circle r=\"0.0\"></circle></g><g fill=\"rgb(100%,100%,100%)\" fill-opacity=\"1.0\" id=\"node-37\" transform=\"translate(187.889,97.233)\"><circle r=\"0.0\"></circle></g><g fill=\"rgb(100%,100%,100%)\" fill-opacity=\"1.0\" id=\"node-38\" transform=\"translate(196.049,85.305)\"><circle r=\"0.0\"></circle></g><g fill=\"rgb(100%,100%,100%)\" fill-opacity=\"1.0\" id=\"node-39\" transform=\"translate(190.358,73.378)\"><circle r=\"0.0\"></circle></g><g fill=\"rgb(100%,100%,100%)\" fill-opacity=\"1.0\" id=\"node-40\" transform=\"translate(107.899,61.450)\"><circle r=\"0.0\"></circle></g><g fill=\"rgb(0%,0%,0%)\" fill-opacity=\"1.0\" id=\"node-41\" transform=\"translate(227.931,496.803)\"><circle r=\"3.0\"></circle></g><g fill=\"rgb(0%,0%,0%)\" fill-opacity=\"1.0\" id=\"node-42\" transform=\"translate(229.177,532.586)\"><circle r=\"3.0\"></circle></g><g fill=\"rgb(0%,0%,0%)\" fill-opacity=\"1.0\" id=\"node-43\" transform=\"translate(222.759,505.749)\"><circle r=\"3.0\"></circle></g><g fill=\"rgb(0%,0%,0%)\" fill-opacity=\"1.0\" id=\"node-44\" transform=\"translate(217.334,519.167)\"><circle r=\"3.0\"></circle></g><g fill=\"rgb(0%,0%,0%)\" fill-opacity=\"1.0\" id=\"node-45\" transform=\"translate(218.082,449.094)\"><circle r=\"3.0\"></circle></g><g fill=\"rgb(0%,0%,0%)\" fill-opacity=\"1.0\" id=\"node-46\" transform=\"translate(215.986,425.239)\"><circle r=\"3.0\"></circle></g><g fill=\"rgb(0%,0%,0%)\" fill-opacity=\"1.0\" id=\"node-47\" transform=\"translate(219.065,377.529)\"><circle r=\"3.0\"></circle></g><g fill=\"rgb(0%,0%,0%)\" fill-opacity=\"1.0\" id=\"node-48\" transform=\"translate(212.276,499.040)\"><circle r=\"3.0\"></circle></g><g fill=\"rgb(0%,0%,0%)\" fill-opacity=\"1.0\" id=\"node-49\" transform=\"translate(212.362,458.039)\"><circle r=\"3.0\"></circle></g><g fill=\"rgb(0%,0%,0%)\" fill-opacity=\"1.0\" id=\"node-50\" transform=\"translate(211.284,416.293)\"><circle r=\"3.0\"></circle></g><g fill=\"rgb(0%,0%,0%)\" fill-opacity=\"1.0\" id=\"node-51\" transform=\"translate(212.711,386.474)\"><circle r=\"3.0\"></circle></g><g fill=\"rgb(0%,0%,0%)\" fill-opacity=\"1.0\" id=\"node-52\" transform=\"translate(206.825,478.539)\"><circle r=\"3.0\"></circle></g><g fill=\"rgb(0%,0%,0%)\" fill-opacity=\"1.0\" id=\"node-53\" transform=\"translate(206.306,401.384)\"><circle r=\"3.0\"></circle></g><g fill=\"rgb(0%,0%,0%)\" fill-opacity=\"1.0\" id=\"node-54\" transform=\"translate(200.632,439.962)\"><circle r=\"3.0\"></circle></g><g fill=\"rgb(0%,0%,0%)\" fill-opacity=\"1.0\" id=\"node-55\" transform=\"translate(180.617,399.799)\"><circle r=\"3.0\"></circle></g><g fill=\"rgb(0%,0%,0%)\" fill-opacity=\"1.0\" id=\"node-56\" transform=\"translate(160.162,373.755)\"><circle r=\"3.0\"></circle></g><g fill=\"rgb(0%,0%,0%)\" fill-opacity=\"1.0\" id=\"node-57\" transform=\"translate(192.773,317.891)\"><circle r=\"3.0\"></circle></g><g fill=\"rgb(0%,0%,0%)\" fill-opacity=\"1.0\" id=\"node-58\" transform=\"translate(156.981,282.109)\"><circle r=\"3.0\"></circle></g><g fill=\"rgb(0%,0%,0%)\" fill-opacity=\"1.0\" id=\"node-59\" transform=\"translate(159.768,222.471)\"><circle r=\"3.0\"></circle></g><g fill=\"rgb(0%,0%,0%)\" fill-opacity=\"1.0\" id=\"node-60\" transform=\"translate(158.867,198.616)\"><circle r=\"3.0\"></circle></g><g fill=\"rgb(0%,0%,0%)\" fill-opacity=\"1.0\" id=\"node-61\" transform=\"translate(152.868,354.769)\"><circle r=\"3.0\"></circle></g><g fill=\"rgb(0%,0%,0%)\" fill-opacity=\"1.0\" id=\"node-62\" transform=\"translate(161.476,308.946)\"><circle r=\"3.0\"></circle></g><g fill=\"rgb(100%,100%,100%)\" fill-opacity=\"1.0\" id=\"node-63\" transform=\"translate(149.975,273.163)\"><circle r=\"3.0\"></circle></g><g fill=\"rgb(100%,100%,100%)\" fill-opacity=\"1.0\" id=\"node-64\" transform=\"translate(155.659,246.326)\"><circle r=\"3.0\"></circle></g><g fill=\"rgb(0%,0%,0%)\" fill-opacity=\"1.0\" id=\"node-65\" transform=\"translate(151.066,210.544)\"><circle r=\"3.0\"></circle></g><g fill=\"rgb(0%,0%,0%)\" fill-opacity=\"1.0\" id=\"node-66\" transform=\"translate(158.137,115.124)\"><circle r=\"3.0\"></circle></g><g fill=\"rgb(100%,100%,100%)\" fill-opacity=\"1.0\" id=\"node-67\" transform=\"translate(145.293,331.857)\"><circle r=\"3.0\"></circle></g><g fill=\"rgb(100%,100%,100%)\" fill-opacity=\"1.0\" id=\"node-68\" transform=\"translate(145.492,259.745)\"><circle r=\"3.0\"></circle></g><g fill=\"rgb(0%,0%,0%)\" fill-opacity=\"1.0\" id=\"node-69\" transform=\"translate(143.052,195.635)\"><circle r=\"3.0\"></circle></g><g fill=\"rgb(100%,100%,100%)\" fill-opacity=\"1.0\" id=\"node-70\" transform=\"translate(149.488,124.070)\"><circle r=\"3.0\"></circle></g><g fill=\"rgb(0%,0%,0%)\" fill-opacity=\"1.0\" id=\"node-71\" transform=\"translate(139.382,295.801)\"><circle r=\"3.0\"></circle></g><g fill=\"rgb(0%,0%,0%)\" fill-opacity=\"1.0\" id=\"node-72\" transform=\"translate(137.237,182.216)\"><circle r=\"3.0\"></circle></g><g fill=\"rgb(0%,0%,0%)\" fill-opacity=\"1.0\" id=\"node-73\" transform=\"translate(142.328,134.506)\"><circle r=\"3.0\"></circle></g><g fill=\"rgb(0%,0%,0%)\" fill-opacity=\"1.0\" id=\"node-74\" transform=\"translate(129.883,239.009)\"><circle r=\"3.0\"></circle></g><g fill=\"rgb(0%,0%,0%)\" fill-opacity=\"1.0\" id=\"node-75\" transform=\"translate(133.733,115.870)\"><circle r=\"3.0\"></circle></g><g fill=\"rgb(0%,0%,0%)\" fill-opacity=\"1.0\" id=\"node-76\" transform=\"translate(136.518,79.342)\"><circle r=\"3.0\"></circle></g><g fill=\"rgb(0%,0%,0%)\" fill-opacity=\"1.0\" id=\"node-77\" transform=\"translate(119.175,197.939)\"><circle r=\"3.0\"></circle></g><g fill=\"rgb(0%,0%,0%)\" fill-opacity=\"1.0\" id=\"node-78\" transform=\"translate(125.050,97.606)\"><circle r=\"3.0\"></circle></g><g fill=\"rgb(0%,0%,0%)\" fill-opacity=\"1.0\" id=\"node-79\" transform=\"translate(107.899,147.772)\"><circle r=\"3.0\"></circle></g><g fill=\"rgb(0%,0%,0%)\" fill-opacity=\"1.0\" id=\"node-80\" transform=\"translate(50.000,104.611)\"><circle r=\"0.0\"></circle></g></g><g class=\"toytree-NodeLabels\" style=\"fill:rgb(0%,0%,0%);fill-opacity:1.0;font-size:7;stroke:none;text-shadow:0.5px 0.5px #fff, -0.5px 0.5px #fff, 0.5px -0.5px #fff, -0.5px -0.5px #fff\"><g transform=\"translate(156.08,274.95)\"><text>61</text></g><g transform=\"translate(161.77,248.11)\"><text>58</text></g><g transform=\"translate(151.40,333.65)\"><text>70</text></g><g transform=\"translate(151.60,261.53)\"><text>84</text></g><g transform=\"translate(155.60,125.86)\"><text>77</text></g></g><g class=\"toytree-TipLabels\" style=\"fill:rgb(14.9%,14.9%,14.9%);fill-opacity:1.0;font-family:helvetica;font-size:10px;font-weight:normal;stroke:none;white-space:pre\"><g transform=\"translate(266.73,538.55)rotate(0)\"><text x=\"15.00\" y=\"2.55\" style=\"fill:rgb(83.1%,100%,16.5%);fill-opacity:1.0\">dumatorum</text></g><g transform=\"translate(266.73,526.62)rotate(0)\"><text x=\"15.00\" y=\"2.55\" style=\"fill:rgb(83.1%,100%,16.5%);fill-opacity:1.0\">seemenii</text></g><g transform=\"translate(266.73,514.69)rotate(0)\"><text x=\"15.00\" y=\"2.55\" style=\"fill:rgb(100%,40%,0%);fill-opacity:1.0\">reticulatum</text></g><g transform=\"translate(266.73,502.77)rotate(0)\"><text x=\"15.00\" y=\"2.55\" style=\"fill:rgb(100%,40%,0%);fill-opacity:1.0\">ayavacense</text></g><g transform=\"translate(266.73,490.84)rotate(0)\"><text x=\"15.00\" y=\"2.55\" style=\"fill:rgb(100%,40%,0%);fill-opacity:1.0\">triphyllum_new</text></g><g transform=\"translate(266.73,478.91)rotate(0)\"><text x=\"15.00\" y=\"2.55\" style=\"fill:rgb(100%,40%,0%);fill-opacity:1.0\">toronis</text></g><g transform=\"translate(266.73,466.98)rotate(0)\"><text x=\"15.00\" y=\"2.55\" style=\"fill:rgb(87.1%,52.9%,80.4%);fill-opacity:1.0\">pichinchense</text></g><g transform=\"translate(266.73,455.06)rotate(0)\"><text x=\"15.00\" y=\"2.55\" style=\"fill:rgb(87.1%,52.9%,80.4%);fill-opacity:1.0\">hallii</text></g><g transform=\"translate(266.73,443.13)rotate(0)\"><text x=\"15.00\" y=\"2.55\" style=\"fill:rgb(87.1%,52.9%,80.4%);fill-opacity:1.0\">jamesonii</text></g><g transform=\"translate(266.73,431.20)rotate(0)\"><text x=\"15.00\" y=\"2.55\" style=\"fill:rgb(33.3%,33.3%,100%);fill-opacity:1.0\">lasiophyllum</text></g><g transform=\"translate(266.73,419.27)rotate(0)\"><text x=\"15.00\" y=\"2.55\" style=\"fill:rgb(33.3%,33.3%,100%);fill-opacity:1.0\">triphyllum</text></g><g transform=\"translate(266.73,407.35)rotate(0)\"><text x=\"15.00\" y=\"2.55\" style=\"fill:rgb(33.3%,33.3%,100%);fill-opacity:1.0\">tinoides_2</text></g><g transform=\"translate(266.73,395.42)rotate(0)\"><text x=\"15.00\" y=\"2.55\" style=\"fill:rgb(40%,100%,0%);fill-opacity:1.0\">tinoides_1</text></g><g transform=\"translate(266.73,383.49)rotate(0)\"><text x=\"15.00\" y=\"2.55\" style=\"fill:rgb(40%,100%,0%);fill-opacity:1.0\">subsessile</text></g><g transform=\"translate(266.73,371.56)rotate(0)\"><text x=\"15.00\" y=\"2.55\" style=\"fill:rgb(40%,100%,0%);fill-opacity:1.0\">undulatum</text></g><g transform=\"translate(266.73,359.64)rotate(0)\"><text x=\"15.00\" y=\"2.55\" style=\"fill:rgb(31.4%,8.63%,26.7%);fill-opacity:1.0\">costaricanum</text></g><g transform=\"translate(266.73,347.71)rotate(0)\"><text x=\"15.00\" y=\"2.55\" style=\"fill:rgb(82.7%,37.3%,37.3%);fill-opacity:1.0\">hartwegii</text></g><g transform=\"translate(266.73,335.78)rotate(0)\"><text x=\"15.00\" y=\"2.55\" style=\"fill:rgb(82.7%,37.3%,37.3%);fill-opacity:1.0\">obtusatum</text></g><g transform=\"translate(266.73,323.85)rotate(0)\"><text x=\"15.00\" y=\"2.55\" style=\"fill:rgb(100%,83.1%,16.5%);fill-opacity:1.0\">villosum</text></g><g transform=\"translate(266.73,311.93)rotate(0)\"><text x=\"15.00\" y=\"2.55\" style=\"fill:rgb(100%,83.1%,16.5%);fill-opacity:1.0\">alpinum</text></g><g transform=\"translate(266.73,300.00)rotate(0)\"><text x=\"15.00\" y=\"2.55\" style=\"fill:rgb(31.4%,8.63%,26.7%);fill-opacity:1.0\">stellato-tomentosum</text></g><g transform=\"translate(266.73,288.07)rotate(0)\"><text x=\"15.00\" y=\"2.55\" style=\"fill:rgb(82.7%,37.3%,37.3%);fill-opacity:1.0\">jucundum</text></g><g transform=\"translate(266.73,276.15)rotate(0)\"><text x=\"15.00\" y=\"2.55\" style=\"fill:rgb(82.7%,37.3%,37.3%);fill-opacity:1.0\">lautum</text></g><g transform=\"translate(266.73,264.22)rotate(0)\"><text x=\"15.00\" y=\"2.55\" style=\"fill:rgb(82.7%,37.3%,37.3%);fill-opacity:1.0\">blandum</text></g><g transform=\"translate(266.73,252.29)rotate(0)\"><text x=\"15.00\" y=\"2.55\" style=\"fill:rgb(82.7%,37.3%,37.3%);fill-opacity:1.0\">disjunctum</text></g><g transform=\"translate(266.73,240.36)rotate(0)\"><text x=\"15.00\" y=\"2.55\" style=\"fill:rgb(82.7%,37.3%,37.3%);fill-opacity:1.0\">discolor</text></g><g transform=\"translate(266.73,228.44)rotate(0)\"><text x=\"15.00\" y=\"2.55\" style=\"fill:rgb(52.9%,80.4%,87.1%);fill-opacity:1.0\">new_sp_2</text></g><g transform=\"translate(266.73,216.51)rotate(0)\"><text x=\"15.00\" y=\"2.55\" style=\"fill:rgb(52.9%,80.4%,87.1%);fill-opacity:1.0\">membranaceum</text></g><g transform=\"translate(266.73,204.58)rotate(0)\"><text x=\"15.00\" y=\"2.55\" style=\"fill:rgb(52.9%,80.4%,87.1%);fill-opacity:1.0\">new_sp_1</text></g><g transform=\"translate(266.73,192.65)rotate(0)\"><text x=\"15.00\" y=\"2.55\" style=\"fill:rgb(52.9%,80.4%,87.1%);fill-opacity:1.0\">acutifolium</text></g><g transform=\"translate(266.73,180.73)rotate(0)\"><text x=\"15.00\" y=\"2.55\" style=\"fill:rgb(52.9%,80.4%,87.1%);fill-opacity:1.0\">microphyllum</text></g><g transform=\"translate(266.73,168.80)rotate(0)\"><text x=\"15.00\" y=\"2.55\" style=\"fill:rgb(52.9%,80.4%,87.1%);fill-opacity:1.0\">fuscum</text></g><g transform=\"translate(266.73,156.87)rotate(0)\"><text x=\"15.00\" y=\"2.55\" style=\"fill:rgb(52.9%,80.4%,87.1%);fill-opacity:1.0\">sulcatum</text></g><g transform=\"translate(266.73,144.94)rotate(0)\"><text x=\"15.00\" y=\"2.55\" style=\"fill:rgb(65.9%,100%,66.7%);fill-opacity:1.0\">microcarpum</text></g><g transform=\"translate(266.73,133.02)rotate(0)\"><text x=\"15.00\" y=\"2.55\" style=\"fill:rgb(65.9%,100%,66.7%);fill-opacity:1.0\">caudatum</text></g><g transform=\"translate(266.73,121.09)rotate(0)\"><text x=\"15.00\" y=\"2.55\" style=\"fill:rgb(65.9%,100%,66.7%);fill-opacity:1.0\">hirsutum</text></g><g transform=\"translate(266.73,109.16)rotate(0)\"><text x=\"15.00\" y=\"2.55\" style=\"fill:rgb(65.9%,100%,66.7%);fill-opacity:1.0\">ciliatum</text></g><g transform=\"translate(266.73,97.23)rotate(0)\"><text x=\"15.00\" y=\"2.55\" style=\"fill:rgb(65.9%,100%,66.7%);fill-opacity:1.0\">tiliaefolium</text></g><g transform=\"translate(266.73,85.31)rotate(0)\"><text x=\"15.00\" y=\"2.55\" style=\"fill:rgb(0%,58.8%,42.7%);fill-opacity:1.0\">stenocalyx</text></g><g transform=\"translate(266.73,73.38)rotate(0)\"><text x=\"15.00\" y=\"2.55\" style=\"fill:rgb(0%,58.8%,42.7%);fill-opacity:1.0\">loeseneri</text></g><g transform=\"translate(266.73,61.45)rotate(0)\"><text x=\"15.00\" y=\"2.55\" style=\"fill:rgb(62.7%,60%,60%);fill-opacity:1.0\">dentatum</text></g></g></g></g></g></svg><div class=\"toyplot-behavior\"><script>(function()\n",
       "{\n",
       "var modules={};\n",
       "})();</script></div></div>"
      ]
     },
     "metadata": {},
     "output_type": "display_data"
    }
   ],
   "source": [
    "#Root tree\n",
    "rtre = tre.root(wildcard=\"dentatum\")\n",
    "\n",
    "#Do some rotations to fit with geo\n",
    "for i in [66,70,73,51,49,41,42,43,44]:\n",
    "    rtre.idx_dict[i].children.reverse()\n",
    "    rtre._coords.update()\n",
    "\n",
    "#Set new names\n",
    "labels_updated = [namedict[i] for i in rtre.get_tip_labels()]\n",
    "color_labels = []\n",
    "\n",
    "#Set color base on leaf form\n",
    "for i in labels_updated:\n",
    "    result = \"Black\"\n",
    "    for key, item in colordict.items():\n",
    "        if i.find(key) > -1:\n",
    "            result = item\n",
    "    color_labels.append(result)\n",
    "\n",
    "\n",
    "#Collapse weak supported nodes\n",
    "# rtre = rtre.collapse_nodes(min_support=75)\n",
    "\n",
    "#Define threshold\n",
    "support_value_threshold = 84\n",
    "\n",
    "canvas, axes, marks = rtre.draw(\n",
    "    height=600, width=400, \n",
    "    use_edge_lengths=True,\n",
    "    tip_labels_align=True,\n",
    "    tip_labels_style={\"font-size\": \"10px\"},\n",
    "    tip_labels=labels_updated,\n",
    "    tip_labels_colors=color_labels,\n",
    "    node_sizes=[6 if i else 0 for i in rtre.get_node_values()],\n",
    "    node_colors=['black' if (i and int(i) > support_value_threshold) else 'white' for i in rtre.get_node_values('support', 1, 1)],\n",
    "#     node_colors=colors,\n",
    "    node_style={\"stroke\": \"black\", \"stroke-width\": 1},\n",
    "#     node_labels=\"support\"\n",
    "    node_labels=['' if (i and int(i) > support_value_threshold) else i for i in rtre.get_node_values('support', 1, 0)],\n",
    "#     node_labels=\"idx\",\n",
    "    node_labels_style= {\n",
    "        \"-toyplot-anchor-shift\": \"10px\",\n",
    "        \"baseline-shift\": \"0px\",\n",
    "        \"text-shadow\": \"0.5px 0.5px #fff, -0.5px 0.5px #fff, 0.5px -0.5px #fff, -0.5px -0.5px #fff\",\n",
    "        \"fill\": \"#000\",\n",
    "        \"font-size\": 7,\n",
    "    },\n",
    "    \n",
    ");"
   ]
  },
  {
   "cell_type": "code",
   "execution_count": 10,
   "metadata": {},
   "outputs": [],
   "source": [
    "import toyplot.svg\n",
    "toyplot.svg.render(canvas, \"./RAxML_bipartitions.splvl_withrealAyava_100scaff_mcov025_rmcov01_mar2021.svg\")"
   ]
  },
  {
   "cell_type": "code",
   "execution_count": 10,
   "metadata": {},
   "outputs": [],
   "source": [
    "# update label not only for presentation, this creates a new tree with current names, and exports it.\n",
    "updateddict = {}\n",
    "for i in rtre.get_tip_labels():\n",
    "    updateddict[i] = namedict[i]\n",
    "\n",
    "    \n",
    "testtre = rtre.set_node_values(\n",
    "    feature=\"name\",\n",
    "    values=updateddict,\n",
    ")\n",
    "\n",
    "testtre.write(f\"{treeFile}_RENAMED\", tree_format=0)"
   ]
  }
 ],
 "metadata": {
  "kernelspec": {
   "display_name": "Python 3",
   "language": "python",
   "name": "python3"
  },
  "language_info": {
   "codemirror_mode": {
    "name": "ipython",
    "version": 3
   },
   "file_extension": ".py",
   "mimetype": "text/x-python",
   "name": "python",
   "nbconvert_exporter": "python",
   "pygments_lexer": "ipython3",
   "version": "3.9.2"
  }
 },
 "nbformat": 4,
 "nbformat_minor": 4
}
