{
 "cells": [
  {
   "cell_type": "markdown",
   "metadata": {
    "tags": []
   },
   "source": [
    "# NANUQ networks reconstructions (part 1) - Running treeslider"
   ]
  },
  {
   "cell_type": "markdown",
   "metadata": {},
   "source": [
    "## Import modules"
   ]
  },
  {
   "cell_type": "code",
   "execution_count": 1,
   "metadata": {},
   "outputs": [],
   "source": [
    "#Imports\r\n",
    "import toytree\r\n",
    "import toyplot.pdf\r\n",
    "import pandas as pd\r\n",
    "import ipyrad.analysis as ipa"
   ]
  },
  {
   "cell_type": "markdown",
   "metadata": {},
   "source": [
    "## Getting trees with treeslider"
   ]
  },
  {
   "cell_type": "code",
   "execution_count": null,
   "metadata": {},
   "outputs": [],
   "source": [
    "#Sequences file\"\n",
    "SEQS = \"../../Raw_data/full_dataset.seqs.hdf5\""
   ]
  },
  {
   "cell_type": "code",
   "execution_count": 3,
   "metadata": {},
   "outputs": [
    {
     "data": {
      "text/html": [
       "<div>\n",
       "<style scoped>\n",
       "    .dataframe tbody tr th:only-of-type {\n",
       "        vertical-align: middle;\n",
       "    }\n",
       "\n",
       "    .dataframe tbody tr th {\n",
       "        vertical-align: top;\n",
       "    }\n",
       "\n",
       "    .dataframe thead th {\n",
       "        text-align: right;\n",
       "    }\n",
       "</style>\n",
       "<table border=\"1\" class=\"dataframe\">\n",
       "  <thead>\n",
       "    <tr style=\"text-align: right;\">\n",
       "      <th></th>\n",
       "      <th>scaffold_name</th>\n",
       "      <th>scaffold_length</th>\n",
       "    </tr>\n",
       "  </thead>\n",
       "  <tbody>\n",
       "    <tr>\n",
       "      <th>3588</th>\n",
       "      <td>Scaffold_3589;HRSCAF=4012</td>\n",
       "      <td>47665733</td>\n",
       "    </tr>\n",
       "    <tr>\n",
       "      <th>28086</th>\n",
       "      <td>Scaffold_28087;HRSCAF=31587</td>\n",
       "      <td>44977913</td>\n",
       "    </tr>\n",
       "    <tr>\n",
       "      <th>17364</th>\n",
       "      <td>Scaffold_17365;HRSCAF=19499</td>\n",
       "      <td>36021024</td>\n",
       "    </tr>\n",
       "    <tr>\n",
       "      <th>62490</th>\n",
       "      <td>Scaffold_62491;HRSCAF=74262</td>\n",
       "      <td>28015097</td>\n",
       "    </tr>\n",
       "    <tr>\n",
       "      <th>61137</th>\n",
       "      <td>Scaffold_61138;HRSCAF=69458</td>\n",
       "      <td>27022671</td>\n",
       "    </tr>\n",
       "    <tr>\n",
       "      <th>...</th>\n",
       "      <td>...</td>\n",
       "      <td>...</td>\n",
       "    </tr>\n",
       "    <tr>\n",
       "      <th>56530</th>\n",
       "      <td>Scaffold_56531;HRSCAF=63672</td>\n",
       "      <td>1000</td>\n",
       "    </tr>\n",
       "    <tr>\n",
       "      <th>47705</th>\n",
       "      <td>Scaffold_47706;HRSCAF=53707</td>\n",
       "      <td>1000</td>\n",
       "    </tr>\n",
       "    <tr>\n",
       "      <th>2963</th>\n",
       "      <td>Scaffold_2964;HRSCAF=3308</td>\n",
       "      <td>1000</td>\n",
       "    </tr>\n",
       "    <tr>\n",
       "      <th>28804</th>\n",
       "      <td>Scaffold_28805;HRSCAF=32399</td>\n",
       "      <td>1000</td>\n",
       "    </tr>\n",
       "    <tr>\n",
       "      <th>21783</th>\n",
       "      <td>Scaffold_21784;HRSCAF=24460</td>\n",
       "      <td>1000</td>\n",
       "    </tr>\n",
       "  </tbody>\n",
       "</table>\n",
       "<p>63580 rows × 2 columns</p>\n",
       "</div>"
      ],
      "text/plain": [
       "                     scaffold_name  scaffold_length\n",
       "3588     Scaffold_3589;HRSCAF=4012         47665733\n",
       "28086  Scaffold_28087;HRSCAF=31587         44977913\n",
       "17364  Scaffold_17365;HRSCAF=19499         36021024\n",
       "62490  Scaffold_62491;HRSCAF=74262         28015097\n",
       "61137  Scaffold_61138;HRSCAF=69458         27022671\n",
       "...                            ...              ...\n",
       "56530  Scaffold_56531;HRSCAF=63672             1000\n",
       "47705  Scaffold_47706;HRSCAF=53707             1000\n",
       "2963     Scaffold_2964;HRSCAF=3308             1000\n",
       "28804  Scaffold_28805;HRSCAF=32399             1000\n",
       "21783  Scaffold_21784;HRSCAF=24460             1000\n",
       "\n",
       "[63580 rows x 2 columns]"
      ]
     },
     "metadata": {},
     "output_type": "display_data"
    },
    {
     "name": "stdout",
     "output_type": "stream",
     "text": [
      "[3588, 28086, 17364, 62490, 61137, 45956, 8703, 9533, 48436, 2632, 63334, 63141, 24082, 13033, 62358, 61104, 61047, 62117, 17617, 56542, 43757, 8389, 61746, 62952, 63518, 61744, 61298, 60968, 5035, 37875, 61000, 22506, 62326, 63551, 61247, 46026, 57237, 730, 62111, 12689, 19887, 62221, 62866, 31061, 62700, 62299, 60847, 40973, 59869, 60919, 63421, 25834, 17056, 62901, 54906, 15325, 62359, 8724, 62132, 647, 63199, 62114, 63268, 63026, 12280, 62608, 21867, 62227, 59617, 29043, 63514, 22028, 61433, 60934, 41200, 29135, 42178, 39260, 40340, 62802, 62290, 126, 63349, 62877, 63548, 61616, 61757, 16723, 7796, 63111, 58278, 4505, 50949, 61161, 22581, 10687, 34786, 38883, 60844, 47880]\n"
     ]
    }
   ],
   "source": [
    "# Get the biggest 100 scaffolds to use only\r\n",
    "scaff = ipa.treeslider(SEQS)\r\n",
    "scaff_table = scaff.scaffold_table.sort_values(by=\"scaffold_length\", ascending=False)\r\n",
    "display (scaff_table)\r\n",
    "\r\n",
    "#use 100 biggest scaffolds\r\n",
    "scaff_toUse = scaff_table.index[:100].tolist()\r\n",
    "print (scaff_toUse)"
   ]
  },
  {
   "cell_type": "markdown",
   "metadata": {},
   "source": [
    "### Creating imap"
   ]
  },
  {
   "cell_type": "code",
   "execution_count": 4,
   "metadata": {},
   "outputs": [],
   "source": [
    "# Load database to build imap\r\n",
    "fulldata = pd.read_csv(\"../../Raw_data/oreinotinus_samples_database.csv\")"
   ]
  },
  {
   "cell_type": "code",
   "execution_count": null,
   "metadata": {
    "scrolled": true
   },
   "outputs": [],
   "source": [
    "#create imap\r\n",
    "\r\n",
    "## import collections to create an empty dict\r\n",
    "from collections import defaultdict\r\n",
    "\r\n",
    "#create empty dict\r\n",
    "imap = defaultdict(list)\r\n",
    "#go row by row\r\n",
    "for index, row in fulldata.iterrows():\r\n",
    "    #only check fulldataset specimens\r\n",
    "    if row[\"full_dataset_withAyava\"]:\r\n",
    "        #append each NamInAssembly to the key Lastest_SP_name\r\n",
    "        imap[row[\"Lastest_SP_name\"]].append(row[\"NameIhow IMAP \r\n",
    "imap"
   ]
  },
  {
   "cell_type": "markdown",
   "metadata": {},
   "source": [
    "### Define treeslider object and parameters"
   ]
  },
  {
   "cell_type": "code",
   "execution_count": 6,
   "metadata": {},
   "outputs": [],
   "source": [
    "# set treeslider parameters \r\n",
    "ts = ipa.treeslider(\r\n",
    "    name=\"window2mb_msnip10_mcov9_IMAPED_100biggestScaff\",\r\n",
    "    data=SEQS,\r\n",
    "    workdir=\"analysis-treeslider\",\r\n",
    "    scaffold_idxs=scaff_toUse,\r\n",
    "    window_size=2000000,\r\n",
    "    slide_size=2000000,\r\n",
    "    inference_method=\"raxml\",\r\n",
    "    inference_args={\"N\": 100, \"T\": 1},\r\n",
    "    minsnps=10,\r\n",
    "    mincov=9,\r\n",
    "    imap=imap,\r\n",
    "#     minmap= {i: 0 for i in imap},\r\n",
    "    consensus_reduce=True\r\n",
    ")"
   ]
  },
  {
   "cell_type": "code",
   "execution_count": 7,
   "metadata": {},
   "outputs": [],
   "source": [
    "# set parallelization parameters\r\n",
    "ts.ipcluster['cores'] = 10\r\n",
    "ts.ipcluster['threads'] = 1"
   ]
  },
  {
   "cell_type": "code",
   "execution_count": 8,
   "metadata": {},
   "outputs": [
    {
     "name": "stdout",
     "output_type": "stream",
     "text": [
      "/home/carlos/anaconda3/bin/raxmlHPC-PTHREADS-AVX2 -f a -T 1 -m GTRGAMMA -n ... -w ... -s ... -p 54321 -N 100 -x 12345\n"
     ]
    }
   ],
   "source": [
    "ts.show_inference_command()"
   ]
  },
  {
   "cell_type": "code",
   "execution_count": null,
   "metadata": {},
   "outputs": [],
   "source": [
    "# Run treeslider\r\n",
    "\r\n",
    "ts.run(auto=True, force=True, show_cluster=True)"
   ]
  },
  {
   "cell_type": "code",
   "execution_count": 10,
   "metadata": {},
   "outputs": [
    {
     "data": {
      "text/html": [
       "<div>\n",
       "<style scoped>\n",
       "    .dataframe tbody tr th:only-of-type {\n",
       "        vertical-align: middle;\n",
       "    }\n",
       "\n",
       "    .dataframe tbody tr th {\n",
       "        vertical-align: top;\n",
       "    }\n",
       "\n",
       "    .dataframe thead th {\n",
       "        text-align: right;\n",
       "    }\n",
       "</style>\n",
       "<table border=\"1\" class=\"dataframe\">\n",
       "  <thead>\n",
       "    <tr style=\"text-align: right;\">\n",
       "      <th></th>\n",
       "      <th>scaffold</th>\n",
       "      <th>start</th>\n",
       "      <th>end</th>\n",
       "      <th>sites</th>\n",
       "      <th>snps</th>\n",
       "      <th>samples</th>\n",
       "      <th>missing</th>\n",
       "      <th>tree</th>\n",
       "    </tr>\n",
       "  </thead>\n",
       "  <tbody>\n",
       "    <tr>\n",
       "      <th>0</th>\n",
       "      <td>126</td>\n",
       "      <td>0</td>\n",
       "      <td>2000000</td>\n",
       "      <td>11331</td>\n",
       "      <td>320</td>\n",
       "      <td>41</td>\n",
       "      <td>0.29</td>\n",
       "      <td>(new_sp_1:0.00470358,microphyllum:0.00441279,(acutifolium:0.00430497,((sulcatum:0.00417629,(fuscum:0.00778976,blandum:0.00324333)45:0.00184229)9:0.000563973,((disjunctum:0.00737338,(jucundum:0.00461906,lautum:0.00460504)41:0.0010021)9:0.000530903...</td>\n",
       "    </tr>\n",
       "    <tr>\n",
       "      <th>1</th>\n",
       "      <td>126</td>\n",
       "      <td>2000000</td>\n",
       "      <td>4000000</td>\n",
       "      <td>11234</td>\n",
       "      <td>241</td>\n",
       "      <td>41</td>\n",
       "      <td>0.30</td>\n",
       "      <td>(hartwegii:0.00357987,discolor:0.00230865,(stellato-tomentosum:0.00863191,((obtusatum:0.00692095,(costaricanum:0.00403002,(seemenii:0.00317119,((dumatorum:0.00352708,(subsessile:0.00334279,((hallii:0.00225204,tinoides_2:0.00504569)16:0.000760494,...</td>\n",
       "    </tr>\n",
       "    <tr>\n",
       "      <th>2</th>\n",
       "      <td>126</td>\n",
       "      <td>4000000</td>\n",
       "      <td>6000000</td>\n",
       "      <td>8688</td>\n",
       "      <td>155</td>\n",
       "      <td>41</td>\n",
       "      <td>0.32</td>\n",
       "      <td>(acutifolium:0.00293168,new_sp_1:0.00387266,(lautum:0.00569614,(new_sp_2:0.00224158,(membranaceum:0.00285351,(((disjunctum:0.00289303,fuscum:0.00460144)30:0.000816493,(blandum:0.00139228,((stellato-tomentosum:0.00453805,jucundum:0.00404081)14:0.0...</td>\n",
       "    </tr>\n",
       "    <tr>\n",
       "      <th>3</th>\n",
       "      <td>126</td>\n",
       "      <td>6000000</td>\n",
       "      <td>8000000</td>\n",
       "      <td>10057</td>\n",
       "      <td>240</td>\n",
       "      <td>41</td>\n",
       "      <td>0.27</td>\n",
       "      <td>(microphyllum:0.00305879,blandum:0.00207079,((new_sp_1:0.0023432,membranaceum:0.00285532)57:0.000803369,((fuscum:0.00502644,new_sp_2:0.00281474)25:0.0010865,(acutifolium:0.00343854,(alpinum:0.00241574,((dentatum:0.0120275,(stenocalyx:0.00327767,(...</td>\n",
       "    </tr>\n",
       "    <tr>\n",
       "      <th>4</th>\n",
       "      <td>647</td>\n",
       "      <td>0</td>\n",
       "      <td>2000000</td>\n",
       "      <td>7767</td>\n",
       "      <td>207</td>\n",
       "      <td>41</td>\n",
       "      <td>0.34</td>\n",
       "      <td>(acutifolium:0.00448521,new_sp_1:0.00635065,(microphyllum:0.00416238,((villosum:0.000993127,alpinum:1e-06)99:0.00622221,((blandum:0.00634458,(stenocalyx:0.00580542,((loeseneri:0.00499851,(tiliaefolium:0.0068288,microcarpum:0.00600745)39:0.0010616...</td>\n",
       "    </tr>\n",
       "  </tbody>\n",
       "</table>\n",
       "</div>"
      ],
      "text/plain": [
       "   scaffold    start      end  sites  snps  samples  missing  \\\n",
       "0       126        0  2000000  11331   320       41     0.29   \n",
       "1       126  2000000  4000000  11234   241       41     0.30   \n",
       "2       126  4000000  6000000   8688   155       41     0.32   \n",
       "3       126  6000000  8000000  10057   240       41     0.27   \n",
       "4       647        0  2000000   7767   207       41     0.34   \n",
       "\n",
       "                                                                                                                                                                                                                                                        tree  \n",
       "0  (new_sp_1:0.00470358,microphyllum:0.00441279,(acutifolium:0.00430497,((sulcatum:0.00417629,(fuscum:0.00778976,blandum:0.00324333)45:0.00184229)9:0.000563973,((disjunctum:0.00737338,(jucundum:0.00461906,lautum:0.00460504)41:0.0010021)9:0.000530903...  \n",
       "1  (hartwegii:0.00357987,discolor:0.00230865,(stellato-tomentosum:0.00863191,((obtusatum:0.00692095,(costaricanum:0.00403002,(seemenii:0.00317119,((dumatorum:0.00352708,(subsessile:0.00334279,((hallii:0.00225204,tinoides_2:0.00504569)16:0.000760494,...  \n",
       "2  (acutifolium:0.00293168,new_sp_1:0.00387266,(lautum:0.00569614,(new_sp_2:0.00224158,(membranaceum:0.00285351,(((disjunctum:0.00289303,fuscum:0.00460144)30:0.000816493,(blandum:0.00139228,((stellato-tomentosum:0.00453805,jucundum:0.00404081)14:0.0...  \n",
       "3  (microphyllum:0.00305879,blandum:0.00207079,((new_sp_1:0.0023432,membranaceum:0.00285532)57:0.000803369,((fuscum:0.00502644,new_sp_2:0.00281474)25:0.0010865,(acutifolium:0.00343854,(alpinum:0.00241574,((dentatum:0.0120275,(stenocalyx:0.00327767,(...  \n",
       "4  (acutifolium:0.00448521,new_sp_1:0.00635065,(microphyllum:0.00416238,((villosum:0.000993127,alpinum:1e-06)99:0.00622221,((blandum:0.00634458,(stenocalyx:0.00580542,((loeseneri:0.00499851,(tiliaefolium:0.0068288,microcarpum:0.00600745)39:0.0010616...  "
      ]
     },
     "execution_count": 10,
     "metadata": {},
     "output_type": "execute_result"
    }
   ],
   "source": [
    "# Quick look of the table result\n",
    "ts.tree_table.head()"
   ]
  },
  {
   "cell_type": "code",
   "execution_count": 11,
   "metadata": {},
   "outputs": [
    {
     "data": {
      "text/plain": [
       "357"
      ]
     },
     "execution_count": 11,
     "metadata": {},
     "output_type": "execute_result"
    }
   ],
   "source": [
    "#Check slides that have more than 300 snps\n",
    "len(ts.tree_table[ts.tree_table.snps > 300].tree)"
   ]
  },
  {
   "cell_type": "code",
   "execution_count": 13,
   "metadata": {},
   "outputs": [],
   "source": [
    "#Save tree into a full newick useful for Astral and for NANUQ\n",
    "minsnps = 300\n",
    "noNANtsTable = ts.tree_table.dropna()\n",
    "outfile = open(f\"raxmlTrees_{ts.name}_{minsnps}snps.nwk\", \"w\")\n",
    "outfile.write(\"\\n\".join(noNANtsTable[noNANtsTable.snps > minsnps].tree.tolist()))\n",
    "outfile.close()"
   ]
  },
  {
   "cell_type": "markdown",
   "metadata": {},
   "source": [
    "## Next step is described in the R script: `2_NANUQ_execution.R`"
   ]
  }
 ],
 "metadata": {
  "kernelspec": {
   "display_name": "Python 3 (ipykernel)",
   "language": "python",
   "name": "python3"
  },
  "language_info": {
   "codemirror_mode": {
    "name": "ipython",
    "version": 3
   },
   "file_extension": ".py",
   "mimetype": "text/x-python",
   "name": "python",
   "nbconvert_exporter": "python",
   "pygments_lexer": "ipython3",
   "version": "3.8.10"
  }
 },
 "nbformat": 4,
 "nbformat_minor": 4
}
