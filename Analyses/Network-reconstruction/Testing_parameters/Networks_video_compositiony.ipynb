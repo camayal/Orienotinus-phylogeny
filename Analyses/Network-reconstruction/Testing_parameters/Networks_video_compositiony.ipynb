{
 "cells": [
  {
   "cell_type": "markdown",
   "metadata": {},
   "source": [
    "## How to use SplitsTrees in command line mode and programatically\n",
    "\n",
    "Java must be installed in the machine.\n",
    "\n",
    "Get and install SplitsTrees in the console\n",
    "\n",
    "```console\n",
    "wget https://software-ab.informatik.uni-tuebingen.de/download/splitstree4/splitstree4_unix_4_16_1.sh\n",
    "bash splitstree4_unix_4_16_1.sh \n",
    "```\n",
    "\n",
    "In the last command a bunch of orders need to be followed\n",
    "\n",
    "In order to run it in command line we need to create a virtual instance to avoid X11 errors, for that the manual recommends to use xvfb, neither of conda wrappers worked here.\n",
    "\n",
    "```\n",
    "sudo apt install xvfb\n",
    "```\n",
    "\n",
    "Splitstree in command line mode is controled by a command file with instructions. That file must contain something like:\n",
    "\n",
    "```\n",
    "begin SplitsTree;\n",
    "LOAD FILE=./analysis-nanuq/MultipleABfig/_002_NANUQdist_alpha0.95_beta0.095.nex\n",
    "UPDATE\n",
    "EXPORTGRAPHICS FORMAT=JPG FILE=network.jpg\n",
    "QUIT\n",
    "end;\n",
    "```\n",
    "\n",
    "These instruction load the distances produced by NANUQ and compute the network which is exported in jpg or orther formats\n",
    "\n",
    "Finally, SplitsTree must be executed with the following command:\n",
    "```\n",
    "xvfb-run --auto-servernum --server-num=1 bash splitstree4/SplitsTree --commandLineMode --commandFile command_File.txt \n",
    "```"
   ]
  },
  {
   "cell_type": "markdown",
   "metadata": {},
   "source": [
    "<div class=\"alert alert-box alert-danger\">\n",
    "    If <code>xvfb</code> is not used some parts of the process fail, like: \n",
    "\n",
    "<code>splitstree4.core.SplitsException: EXPORTGRAPHICS: invalid network block (try 'update' first)</code>\n",
    "</div>"
   ]
  },
  {
   "cell_type": "markdown",
   "metadata": {},
   "source": [
    "<div class=\"alert alert-box alert-success\">\n",
    "Apparently those problems are caused because Splitstree needs a virtual instance (virtual Frame Buffer) to run. Using <code>xvfb-run</code> solves this problem."
   ]
  },
  {
   "cell_type": "markdown",
   "metadata": {},
   "source": [
    "## Reconstruct networks with SplitsTree using NANUQ output"
   ]
  },
  {
   "cell_type": "code",
   "execution_count": null,
   "metadata": {},
   "outputs": [],
   "source": [
    "#Imports\n",
    "import os"
   ]
  },
  {
   "cell_type": "code",
   "execution_count": 1,
   "metadata": {},
   "outputs": [],
   "source": [
    "#Define folder\n",
    "folder = \"/home/camayal/viburnumThings/Viburnum-Oreinotinus/notebooks/Oct2020/analysis-nanuq/MultipleABfig_2/\""
   ]
  },
  {
   "cell_type": "code",
   "execution_count": 25,
   "metadata": {},
   "outputs": [],
   "source": [
    "#Create folder networks_in_Splitstree if not exists \n",
    "if not os.path.exists(f\"{folder}networks\"):\n",
    "    os.makedirs(f\"{folder}networks\")\n",
    "\n",
    "#Get the list of nex files produced by nanuq\n",
    "#create a temporary command file for splitstree and execute splitstree\n",
    "files = os.listdir(folder)\n",
    "for file in sorted(files):\n",
    "    if file.endswith('.nex'):\n",
    "        with open(f\"{folder}commands_for_splitstree.tmp\", \"w\") as file_w:\n",
    "            L = [\"begin SplitsTree;\\n\",\n",
    "                 f\"LOAD FILE={folder}{file}\\n\",\n",
    "                 \"UPDATE\\n\",\n",
    "                 f\"EXPORTGRAPHICS FORMAT=JPG FILE={folder}networks/{file[:-4]}_network.jpg REPLACE=yes\\n\",\n",
    "                 \"QUIT\\n\",\n",
    "                 \"end;\\n\"]\n",
    "            file_w.writelines(L)\n",
    "        #Run splitstree for each nexus file produced by NANUQ\n",
    "        !xvfb-run --auto-servernum --server-num=1 bash ~/splitstree4/SplitsTree --commandLineMode --silentMode --commandFile {folder}commands_for_splitstree.tmp "
   ]
  },
  {
   "cell_type": "markdown",
   "metadata": {},
   "source": [
    "## Construct concatenated figures with simplex and network\n",
    "\n",
    "For this and video section it is mandatory to use imagemagick.\n",
    "\n",
    "Install ImageMagick and dependencies for video creation:\n",
    "\n",
    "```\n",
    "conda install -c conda-forge ffmpeg -y\n",
    "conda install -c conda-forge imagemagick -y\n",
    "```"
   ]
  },
  {
   "cell_type": "code",
   "execution_count": 73,
   "metadata": {},
   "outputs": [],
   "source": [
    "#Get every simplex and put in a list\n",
    "#search the same filename in Network folder and concatenate both images\n",
    "#save it in composed folder\n",
    "\n",
    "if not os.path.exists(f\"{folder}composed\"):\n",
    "    os.makedirs(f\"{folder}composed\")\n",
    "\n",
    "files = os.listdir(f\"{folder}\")\n",
    "\n",
    "for file in sorted(files):\n",
    "    if file.endswith('.nex'):\n",
    "        #Execute  ImageMagick  to concatenate images\n",
    "        !convert \\\n",
    "        {folder}simplex/{file[:-4]}.jpg \\\n",
    "        {folder}networks/{file[:-4]}_network.jpg \\\n",
    "        +append \\\n",
    "        -resize 90% \\\n",
    "        {folder}composed/{file[:-4]}_simplex-plus-network.jpg\n",
    "        \n",
    "        \n",
    "        "
   ]
  },
  {
   "cell_type": "markdown",
   "metadata": {},
   "source": [
    "## Compose the video with concatenated figures"
   ]
  },
  {
   "cell_type": "code",
   "execution_count": 74,
   "metadata": {},
   "outputs": [],
   "source": [
    "#Imports\n",
    "from IPython.display import Video"
   ]
  },
  {
   "cell_type": "code",
   "execution_count": 75,
   "metadata": {},
   "outputs": [
    {
     "name": "stdout",
     "output_type": "stream",
     "text": [
      "/home/camayal/viburnumThings/Viburnum-Oreinotinus/notebooks/Oct2020/analysis-nanuq/MultipleABfig_2.mp4\n"
     ]
    }
   ],
   "source": [
    "paths = folder.split(\"/\")\n",
    "parent_folder = \"/\".join(paths[:-2])\n",
    "name_video = paths[-2]\n",
    "\n",
    "#Execute  ImageMagick  to create the final video\n",
    "!convert \\\n",
    "-delay 20 \\\n",
    "-loop 0 \\\n",
    "{folder}composed/*.jpg \\\n",
    "{parent_folder}/{name_video}.mp4\n",
    "\n",
    "print(f\"{parent_folder}/{name_video}.mp4\")"
   ]
  },
  {
   "cell_type": "code",
   "execution_count": 77,
   "metadata": {},
   "outputs": [
    {
     "data": {
      "text/html": [
       "<video src=\"analysis-nanuq/MultipleABfig_2.mp4\" controls   height=\"450\">\n",
       "      Your browser does not support the <code>video</code> element.\n",
       "    </video>"
      ],
      "text/plain": [
       "<IPython.core.display.Video object>"
      ]
     },
     "execution_count": 77,
     "metadata": {},
     "output_type": "execute_result"
    }
   ],
   "source": [
    "Video(\"analysis-nanuq/MultipleABfig_2.mp4\", height=450)"
   ]
  },
  {
   "cell_type": "code",
   "execution_count": 33,
   "metadata": {
    "scrolled": false
   },
   "outputs": [
    {
     "data": {
      "text/html": [
       "<video src=\"analysis-nanuq/nanuqTests_MultipleABfig_onlyAlpha_conct.mp4\" controls  width=\"950\" >\n",
       "      Your browser does not support the <code>video</code> element.\n",
       "    </video>"
      ],
      "text/plain": [
       "<IPython.core.display.Video object>"
      ]
     },
     "execution_count": 33,
     "metadata": {},
     "output_type": "execute_result"
    }
   ],
   "source": [
    "#Old video with networks reconstructed with Phargorn\n",
    "#Video(\"analysis-nanuq/nanuqTests_MultipleABfig_onlyAlpha_conct.mp4\", width=950)"
   ]
  },
  {
   "cell_type": "code",
   "execution_count": null,
   "metadata": {},
   "outputs": [],
   "source": []
  }
 ],
 "metadata": {
  "kernelspec": {
   "display_name": "Python 3",
   "language": "python",
   "name": "python3"
  },
  "language_info": {
   "codemirror_mode": {
    "name": "ipython",
    "version": 3
   },
   "file_extension": ".py",
   "mimetype": "text/x-python",
   "name": "python",
   "nbconvert_exporter": "python",
   "pygments_lexer": "ipython3",
   "version": "3.7.8"
  }
 },
 "nbformat": 4,
 "nbformat_minor": 4
}
